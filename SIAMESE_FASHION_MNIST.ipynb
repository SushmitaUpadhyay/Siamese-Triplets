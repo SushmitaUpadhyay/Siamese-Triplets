{
  "nbformat": 4,
  "nbformat_minor": 0,
  "metadata": {
    "colab": {
      "name": "SIAMESE FASHION MNIST.ipynb",
      "provenance": [],
      "collapsed_sections": []
    },
    "kernelspec": {
      "name": "python3",
      "display_name": "Python 3"
    },
    "accelerator": "TPU"
  },
  "cells": [
    {
      "cell_type": "code",
      "metadata": {
        "id": "UK_FnNuC3j8l"
      },
      "source": [
        "import os\n",
        "import numpy as np\n",
        "np.random.seed(0)\n",
        "import matplotlib.pyplot as plt\n",
        "%matplotlib inline\n",
        "from keras.models import Sequential\n",
        "from keras.optimizers import Adam\n",
        "from keras.layers import Conv2D, Input, concatenate\n",
        "from keras.models import Model\n",
        "from keras.layers.pooling import MaxPooling2D\n",
        "from keras.layers.merge import Concatenate\n",
        "from keras.layers.core import Lambda, Flatten, Dense\n",
        "from keras import backend as K\n",
        "import pandas as pd"
      ],
      "execution_count": null,
      "outputs": []
    },
    {
      "cell_type": "code",
      "metadata": {
        "id": "TJJsAzTO4-w7"
      },
      "source": [
        "from keras.datasets import fashion_mnist\n",
        "(x_train, y_train), (x_test, y_test) = fashion_mnist.load_data()"
      ],
      "execution_count": null,
      "outputs": []
    },
    {
      "cell_type": "code",
      "metadata": {
        "colab": {
          "base_uri": "https://localhost:8080/",
          "height": 265
        },
        "id": "gC5f5hhH51_T",
        "outputId": "83b0c22f-7fd7-4c74-dd2f-170f67ca6402"
      },
      "source": [
        "plt.imshow(x_train[7].reshape(28,28))\n",
        "plt.gray()"
      ],
      "execution_count": null,
      "outputs": [
        {
          "output_type": "display_data",
          "data": {
            "image/png": "[encoded data removed]",
            "text/plain": [
              "<Figure size 432x288 with 1 Axes>"
            ]
          },
          "metadata": {
            "tags": [],
            "needs_background": "light"
          }
        }
      ]
    },
    {
      "cell_type": "code",
      "metadata": {
        "id": "vEZFNPMJFB7k"
      },
      "source": [
        "x_train[0]"
      ],
      "execution_count": null,
      "outputs": []
    },
    {
      "cell_type": "code",
      "metadata": {
        "colab": {
          "base_uri": "https://localhost:8080/"
        },
        "id": "dJ29Ucj-6BxS",
        "outputId": "a8fa85fd-7aed-4103-e729-0dd470338733"
      },
      "source": [
        "x_train = np.reshape(x_train, (x_train.shape[0], 784))/255.\n",
        "x_test = np.reshape(x_test, (x_test.shape[0], 784))/255.\n",
        "print(x_train.shape)"
      ],
      "execution_count": null,
      "outputs": [
        {
          "output_type": "stream",
          "text": [
            "(60000, 784)\n"
          ],
          "name": "stdout"
        }
      ]
    },
    {
      "cell_type": "code",
      "metadata": {
        "colab": {
          "base_uri": "https://localhost:8080/"
        },
        "id": "_X8H8aeV6VnV",
        "outputId": "245fc638-34fe-4971-b873-005c71fd1644"
      },
      "source": [
        "input_shape=(784, )\n",
        "emb_size = 128\n",
        "\n",
        "def Build_network(input):\n",
        "  model = Sequential()\n",
        "  model.add(Dense(512, activation='relu', input_shape=input_shape))\n",
        "  model.add(Dense(256, activation='relu'))\n",
        "  model.add(Dense(emb_size, activation='relu'))\n",
        "\n",
        "  model.summary()\n",
        "  return model\n",
        "\n",
        "network=Build_network(input_shape)"
      ],
      "execution_count": null,
      "outputs": [
        {
          "output_type": "stream",
          "text": [
            "Model: \"sequential_4\"\n",
            "_________________________________________________________________\n",
            "Layer (type)                 Output Shape              Param #   \n",
            "=================================================================\n",
            "dense_12 (Dense)             (None, 512)               401920    \n",
            "_________________________________________________________________\n",
            "dense_13 (Dense)             (None, 256)               131328    \n",
            "_________________________________________________________________\n",
            "dense_14 (Dense)             (None, 128)               32896     \n",
            "=================================================================\n",
            "Total params: 566,144\n",
            "Trainable params: 566,144\n",
            "Non-trainable params: 0\n",
            "_________________________________________________________________\n"
          ],
          "name": "stdout"
        }
      ]
    },
    {
      "cell_type": "code",
      "metadata": {
        "colab": {
          "base_uri": "https://localhost:8080/"
        },
        "id": "3_nSlCMICmFZ",
        "outputId": "9b58aea1-f2a7-4827-94d8-60a7581a1152"
      },
      "source": [
        "anchor_input = Input(input_shape)\n",
        "positive_input = Input(input_shape)\n",
        "negative_input = Input(input_shape)\n",
        "\n",
        "anchor_vec = network(anchor_input)\n",
        "positive_vec = network(positive_input)\n",
        "negative_vec = network(negative_input)\n",
        "\n",
        "output = concatenate([anchor_vec, positive_vec, negative_vec] , axis=-1)\n",
        "triplet_network = Model([anchor_input,positive_input,negative_input] , output)\n",
        "triplet_network.summary()"
      ],
      "execution_count": null,
      "outputs": [
        {
          "output_type": "stream",
          "text": [
            "Model: \"functional_9\"\n",
            "__________________________________________________________________________________________________\n",
            "Layer (type)                    Output Shape         Param #     Connected to                     \n",
            "==================================================================================================\n",
            "input_13 (InputLayer)           [(None, 784)]        0                                            \n",
            "__________________________________________________________________________________________________\n",
            "input_14 (InputLayer)           [(None, 784)]        0                                            \n",
            "__________________________________________________________________________________________________\n",
            "input_15 (InputLayer)           [(None, 784)]        0                                            \n",
            "__________________________________________________________________________________________________\n",
            "sequential_4 (Sequential)       (None, 128)          566144      input_13[0][0]                   \n",
            "                                                                 input_14[0][0]                   \n",
            "                                                                 input_15[0][0]                   \n",
            "__________________________________________________________________________________________________\n",
            "concatenate_4 (Concatenate)     (None, 384)          0           sequential_4[0][0]               \n",
            "                                                                 sequential_4[1][0]               \n",
            "                                                                 sequential_4[2][0]               \n",
            "==================================================================================================\n",
            "Total params: 566,144\n",
            "Trainable params: 566,144\n",
            "Non-trainable params: 0\n",
            "__________________________________________________________________________________________________\n"
          ],
          "name": "stdout"
        }
      ]
    },
    {
      "cell_type": "code",
      "metadata": {
        "colab": {
          "base_uri": "https://localhost:8080/"
        },
        "id": "qFclF88jR4vj",
        "outputId": "72498692-b598-4be9-d0e9-a442c713e243"
      },
      "source": [
        "x_train.shape[0]"
      ],
      "execution_count": null,
      "outputs": [
        {
          "output_type": "execute_result",
          "data": {
            "text/plain": [
              "60000"
            ]
          },
          "metadata": {
            "tags": []
          },
          "execution_count": 109
        }
      ]
    },
    {
      "cell_type": "code",
      "metadata": {
        "id": "cstMq7c0FACD"
      },
      "source": [
        "def Generate_triplets(batch_size):\n",
        "  anchors = np.zeros((batch_size,784))\n",
        "  positives = np.zeros((batch_size,784))\n",
        "  negatives = np.zeros((batch_size,784))\n",
        "  total_size = x_train.shape[0] - 1\n",
        "\n",
        "  for i in range(batch_size):\n",
        "    random_index = np.random.randint(0, total_size)\n",
        "    x_anchor = x_train[random_index]\n",
        "    y_anchor = y_train[random_index]\n",
        "\n",
        "    index_positive = np.squeeze(np.where(y_train==y_anchor))\n",
        "    index_negative = np.squeeze(np.where(y_train!=y_anchor))\n",
        "\n",
        "    x_positive = x_train[index_positive[np.random.randint(0,len(index_positive)-1)]]\n",
        "    x_negative = x_train[index_negative[np.random.randint(0,len(index_negative)-1)]]\n",
        "\n",
        "    anchors[i] = x_anchor\n",
        "    positives[i] = x_positive\n",
        "    negatives[i] = x_negative\n",
        "\n",
        "\n",
        "  return[anchors,positives,negatives]\n",
        "\n",
        "def Plot_triplets(samples):\n",
        "  plt.figure(figsize=(6,6))\n",
        "  y= np.asarray(samples)\n",
        "  y= np.reshape(y, (3,batch_size,28,28))\n",
        "  for j in range (batch_size):\n",
        "    for i in range (3):\n",
        "      plt.subplot(batch_size,3,i+1)\n",
        "      plt.imshow(y[i][j,:,:])\n",
        "    plt.show()"
      ],
      "execution_count": null,
      "outputs": []
    },
    {
      "cell_type": "code",
      "metadata": {
        "colab": {
          "base_uri": "https://localhost:8080/",
          "height": 315
        },
        "id": "KTtlt68oTux_",
        "outputId": "a4d22b4a-1b5c-4ea9-f526-f179d93952be"
      },
      "source": [
        "batch_size=2\n",
        "samples = Generate_triplets(batch_size)\n",
        "print(np.shape(samples))\n",
        "Plot_triplets(samples)\n",
        "plt.gray()"
      ],
      "execution_count": null,
      "outputs": [
        {
          "output_type": "stream",
          "text": [
            "(3, 2, 784)\n"
          ],
          "name": "stdout"
        },
        {
          "output_type": "display_data",
          "data": {
            "image/png": "[encoded data removed]",
            "text/plain": [
              "<Figure size 432x432 with 3 Axes>"
            ]
          },
          "metadata": {
            "tags": [],
            "needs_background": "light"
          }
        },
        {
          "output_type": "display_data",
          "data": {
            "image/png": "[encoded data removed]",
            "text/plain": [
              "<Figure size 432x288 with 3 Axes>"
            ]
          },
          "metadata": {
            "tags": [],
            "needs_background": "light"
          }
        },
        {
          "output_type": "display_data",
          "data": {
            "text/plain": [
              "<Figure size 432x288 with 0 Axes>"
            ]
          },
          "metadata": {
            "tags": []
          }
        }
      ]
    },
    {
      "cell_type": "code",
      "metadata": {
        "id": "bUlRNQuYYUQk"
      },
      "source": [
        "alpha = 0.2\n",
        "def Triplet_loss(y_true, y_pred):\n",
        "    anchor, positive, negative = y_pred[:,:emb_size], y_pred[:,emb_size:2*emb_size], y_pred[:,2*emb_size:]\n",
        "    p_dist = K.sum(K.square(anchor-positive), axis=-1)\n",
        "    n_dist = K.sum(K.square(anchor-negative), axis=-1)\n",
        "    return K.sum(K.maximum(p_dist - n_dist + alpha, 0), axis=0)  "
      ],
      "execution_count": null,
      "outputs": []
    },
    {
      "cell_type": "code",
      "metadata": {
        "id": "7bJ0i3Adb0OF"
      },
      "source": [
        "batch_size = 256\n",
        "def Data_generator(batch_size):\n",
        "    while True:\n",
        "        x = Generate_triplets(batch_size)\n",
        "        y = np.zeros((batch_size, 3*emb_size))\n",
        "        yield x, y"
      ],
      "execution_count": null,
      "outputs": []
    },
    {
      "cell_type": "code",
      "metadata": {
        "colab": {
          "base_uri": "https://localhost:8080/"
        },
        "id": "Huf5yKxsdYU5",
        "outputId": "72ac3a37-b657-4acb-bbfb-1ea68907c375"
      },
      "source": [
        "epochs = 20\n",
        "batch_size=2048\n",
        "steps_per_epoch = int(x_train.shape[0]/batch_size)\n",
        "print(steps_per_epoch)\n",
        "triplet_network.compile(loss=Triplet_loss, optimizer='adam')\n",
        "\n"
      ],
      "execution_count": null,
      "outputs": [
        {
          "output_type": "stream",
          "text": [
            "29\n"
          ],
          "name": "stdout"
        }
      ]
    },
    {
      "cell_type": "code",
      "metadata": {
        "colab": {
          "base_uri": "https://localhost:8080/"
        },
        "id": "wkmkHc6ldyr6",
        "outputId": "4288b267-cb74-406c-d792-f9070a363fcf"
      },
      "source": [
        "triplet_network.fit(\n",
        "    Data_generator(batch_size),\n",
        "    steps_per_epoch=steps_per_epoch,\n",
        "    epochs=epochs, verbose=1\n",
        ")"
      ],
      "execution_count": null,
      "outputs": [
        {
          "output_type": "stream",
          "text": [
            "Epoch 1/20\n",
            "29/29 [==============================] - 33s 1s/step - loss: 127.5856\n",
            "Epoch 2/20\n",
            "29/29 [==============================] - 33s 1s/step - loss: 68.6560\n",
            "Epoch 3/20\n",
            "29/29 [==============================] - 33s 1s/step - loss: 57.3820\n",
            "Epoch 4/20\n",
            "29/29 [==============================] - 33s 1s/step - loss: 51.6262\n",
            "Epoch 5/20\n",
            "29/29 [==============================] - 33s 1s/step - loss: 51.3397\n",
            "Epoch 6/20\n",
            "29/29 [==============================] - 33s 1s/step - loss: 45.6136\n",
            "Epoch 7/20\n",
            "29/29 [==============================] - 33s 1s/step - loss: 43.8745\n",
            "Epoch 8/20\n",
            "29/29 [==============================] - 33s 1s/step - loss: 40.4401\n",
            "Epoch 9/20\n",
            "29/29 [==============================] - 33s 1s/step - loss: 39.8515\n",
            "Epoch 10/20\n",
            "29/29 [==============================] - 33s 1s/step - loss: 37.7404\n",
            "Epoch 11/20\n",
            "29/29 [==============================] - 33s 1s/step - loss: 36.3677\n",
            "Epoch 12/20\n",
            "29/29 [==============================] - 33s 1s/step - loss: 36.3377\n",
            "Epoch 13/20\n",
            "29/29 [==============================] - 34s 1s/step - loss: 35.9253\n",
            "Epoch 14/20\n",
            "29/29 [==============================] - 33s 1s/step - loss: 35.1375\n",
            "Epoch 15/20\n",
            "29/29 [==============================] - 33s 1s/step - loss: 33.4579\n",
            "Epoch 16/20\n",
            "29/29 [==============================] - 33s 1s/step - loss: 33.6518\n",
            "Epoch 17/20\n",
            "29/29 [==============================] - 33s 1s/step - loss: 31.6919\n",
            "Epoch 18/20\n",
            "29/29 [==============================] - 33s 1s/step - loss: 31.4287\n",
            "Epoch 19/20\n",
            "29/29 [==============================] - 33s 1s/step - loss: 30.7564\n",
            "Epoch 20/20\n",
            "29/29 [==============================] - 33s 1s/step - loss: 30.6324\n"
          ],
          "name": "stdout"
        }
      ]
    },
    {
      "cell_type": "code",
      "metadata": {
        "id": "D0DPI4NK3P6l"
      },
      "source": [
        "from sklearn.decomposition import PCA"
      ],
      "execution_count": null,
      "outputs": []
    },
    {
      "cell_type": "code",
      "metadata": {
        "id": "RQyVVfxreR7s"
      },
      "source": [
        "prediction = network.predict(x_test.reshape(10000,784))"
      ],
      "execution_count": null,
      "outputs": []
    },
    {
      "cell_type": "code",
      "metadata": {
        "id": "8-uyN-SL1VgY"
      },
      "source": [
        "pca_out = PCA(n_components=2).fit_transform(prediction)"
      ],
      "execution_count": null,
      "outputs": []
    },
    {
      "cell_type": "code",
      "metadata": {
        "colab": {
          "base_uri": "https://localhost:8080/",
          "height": 609
        },
        "id": "Zb5OxWv0RZSK",
        "outputId": "4e4d9ff7-aff0-47a6-a18c-e0b02d198581"
      },
      "source": [
        "plt.figure(figsize=(10,10))\n",
        "label=['0','1','2','3','4','5','6','7','8','9']\n",
        "label=[0,1,2,3,4,5,6,7,8,9]\n",
        "scatter = plt.scatter(pca_out[:,0], pca_out[:,1], c=y_test, cmap='seismic',label=label)\n",
        "plt.legend(handles=scatter.legend_elements()[0], labels=label)\n",
        "\n",
        "plt.plot()"
      ],
      "execution_count": null,
      "outputs": [
        {
          "output_type": "execute_result",
          "data": {
            "text/plain": [
              "[]"
            ]
          },
          "metadata": {
            "tags": []
          },
          "execution_count": 120
        },
        {
          "output_type": "display_data",
          "data": {
            "image/png": "[encoded data removed]",
            "text/plain": [
              "<Figure size 720x720 with 1 Axes>"
            ]
          },
          "metadata": {
            "tags": [],
            "needs_background": "light"
          }
        }
      ]
    },
    {
      "cell_type": "code",
      "metadata": {
        "id": "aIXFDCuDahph"
      },
      "source": [
        "network.save_weights('/content/drive/My Drive/FMNISTweights.h5')"
      ],
      "execution_count": null,
      "outputs": []
    },
    {
      "cell_type": "code",
      "metadata": {
        "id": "nrPaorcWAPgq"
      },
      "source": [
        "def compute_dist(a,b):\n",
        "    a=a.reshape(-1,1)\n",
        "    b=b.reshape(-1,1)\n",
        "    #return np.sum(np.square(a-b))\n",
        "    #return (np.sqrt(np.sum(np.square(a-b))))\n",
        "    d = np.matmul(np.transpose(a), b)\n",
        "    e = np.matmul(np.transpose(a), a)\n",
        "    f = np.matmul(np.transpose(b), b)\n",
        "    return (1 - (d / (np.sqrt(e) * np.sqrt(f))))"
      ],
      "execution_count": null,
      "outputs": []
    },
    {
      "cell_type": "code",
      "metadata": {
        "id": "fj45LCpRBSth"
      },
      "source": [
        "def find_dist_test(ref,images):\n",
        "    X1 = np.asarray(images)\n",
        "    nb_images,_=np.shape(X1)\n",
        "    test_array=np.zeros((1,nb_images))\n",
        "    for i in range(nb_images):\n",
        "        dist = compute_dist(ref,images[i])\n",
        "\n",
        "        test_array[0,i]=dist\n",
        "    return test_array"
      ],
      "execution_count": null,
      "outputs": []
    },
    {
      "cell_type": "code",
      "metadata": {
        "id": "cY8e_udyBtPM"
      },
      "source": [
        "distance=find_dist_test(prediction[8],prediction)"
      ],
      "execution_count": null,
      "outputs": []
    },
    {
      "cell_type": "code",
      "metadata": {
        "id": "FSn-RKj1CzUe"
      },
      "source": [
        "distance_df = pd.DataFrame(distance,columns=[y_test],index={'Test Input'})\n"
      ],
      "execution_count": null,
      "outputs": []
    },
    {
      "cell_type": "code",
      "metadata": {
        "colab": {
          "base_uri": "https://localhost:8080/",
          "height": 146
        },
        "id": "skewsAQTDQ8n",
        "outputId": "d9ad9a6d-442a-43b8-d277-d59e3a1c31f0"
      },
      "source": [
        "distance_df"
      ],
      "execution_count": null,
      "outputs": [
        {
          "output_type": "execute_result",
          "data": {
            "text/html": [
              "<div>\n",
              "<style scoped>\n",
              "    .dataframe tbody tr th:only-of-type {\n",
              "        vertical-align: middle;\n",
              "    }\n",
              "\n",
              "    .dataframe tbody tr th {\n",
              "        vertical-align: top;\n",
              "    }\n",
              "\n",
              "    .dataframe thead tr th {\n",
              "        text-align: left;\n",
              "    }\n",
              "</style>\n",
              "<table border=\"1\" class=\"dataframe\">\n",
              "  <thead>\n",
              "    <tr>\n",
              "      <th></th>\n",
              "      <th>9</th>\n",
              "      <th>2</th>\n",
              "      <th>1</th>\n",
              "      <th>1</th>\n",
              "      <th>6</th>\n",
              "      <th>1</th>\n",
              "      <th>4</th>\n",
              "      <th>6</th>\n",
              "      <th>5</th>\n",
              "      <th>7</th>\n",
              "      <th>4</th>\n",
              "      <th>5</th>\n",
              "      <th>7</th>\n",
              "      <th>3</th>\n",
              "      <th>4</th>\n",
              "      <th>1</th>\n",
              "      <th>2</th>\n",
              "      <th>4</th>\n",
              "      <th>8</th>\n",
              "      <th>0</th>\n",
              "      <th>2</th>\n",
              "      <th>5</th>\n",
              "      <th>7</th>\n",
              "      <th>9</th>\n",
              "      <th>1</th>\n",
              "      <th>4</th>\n",
              "      <th>6</th>\n",
              "      <th>0</th>\n",
              "      <th>9</th>\n",
              "      <th>3</th>\n",
              "      <th>8</th>\n",
              "      <th>8</th>\n",
              "      <th>3</th>\n",
              "      <th>3</th>\n",
              "      <th>8</th>\n",
              "      <th>0</th>\n",
              "      <th>7</th>\n",
              "      <th>5</th>\n",
              "      <th>7</th>\n",
              "      <th>9</th>\n",
              "      <th>...</th>\n",
              "      <th>1</th>\n",
              "      <th>6</th>\n",
              "      <th>6</th>\n",
              "      <th>4</th>\n",
              "      <th>9</th>\n",
              "      <th>1</th>\n",
              "      <th>4</th>\n",
              "      <th>9</th>\n",
              "      <th>7</th>\n",
              "      <th>8</th>\n",
              "      <th>2</th>\n",
              "      <th>6</th>\n",
              "      <th>2</th>\n",
              "      <th>9</th>\n",
              "      <th>7</th>\n",
              "      <th>8</th>\n",
              "      <th>5</th>\n",
              "      <th>6</th>\n",
              "      <th>9</th>\n",
              "      <th>6</th>\n",
              "      <th>0</th>\n",
              "      <th>0</th>\n",
              "      <th>8</th>\n",
              "      <th>1</th>\n",
              "      <th>3</th>\n",
              "      <th>2</th>\n",
              "      <th>7</th>\n",
              "      <th>5</th>\n",
              "      <th>8</th>\n",
              "      <th>4</th>\n",
              "      <th>5</th>\n",
              "      <th>6</th>\n",
              "      <th>8</th>\n",
              "      <th>9</th>\n",
              "      <th>1</th>\n",
              "      <th>9</th>\n",
              "      <th>1</th>\n",
              "      <th>8</th>\n",
              "      <th>1</th>\n",
              "      <th>5</th>\n",
              "    </tr>\n",
              "  </thead>\n",
              "  <tbody>\n",
              "    <tr>\n",
              "      <th>Test Input</th>\n",
              "      <td>0.15348</td>\n",
              "      <td>1.0</td>\n",
              "      <td>0.887443</td>\n",
              "      <td>0.87661</td>\n",
              "      <td>1.0</td>\n",
              "      <td>0.878535</td>\n",
              "      <td>1.0</td>\n",
              "      <td>1.0</td>\n",
              "      <td>0.0</td>\n",
              "      <td>0.239713</td>\n",
              "      <td>1.0</td>\n",
              "      <td>0.030592</td>\n",
              "      <td>0.150331</td>\n",
              "      <td>0.929977</td>\n",
              "      <td>0.923464</td>\n",
              "      <td>0.856957</td>\n",
              "      <td>0.997464</td>\n",
              "      <td>0.986271</td>\n",
              "      <td>0.632895</td>\n",
              "      <td>1.0</td>\n",
              "      <td>0.955869</td>\n",
              "      <td>0.030134</td>\n",
              "      <td>0.274977</td>\n",
              "      <td>0.120321</td>\n",
              "      <td>0.861557</td>\n",
              "      <td>1.0</td>\n",
              "      <td>1.0</td>\n",
              "      <td>0.999971</td>\n",
              "      <td>0.324798</td>\n",
              "      <td>0.870028</td>\n",
              "      <td>0.625111</td>\n",
              "      <td>0.640193</td>\n",
              "      <td>0.792392</td>\n",
              "      <td>0.95481</td>\n",
              "      <td>0.611329</td>\n",
              "      <td>0.994542</td>\n",
              "      <td>0.267954</td>\n",
              "      <td>0.016296</td>\n",
              "      <td>0.260845</td>\n",
              "      <td>0.382869</td>\n",
              "      <td>...</td>\n",
              "      <td>0.882591</td>\n",
              "      <td>0.954677</td>\n",
              "      <td>0.958039</td>\n",
              "      <td>1.0</td>\n",
              "      <td>0.310409</td>\n",
              "      <td>0.865389</td>\n",
              "      <td>0.936047</td>\n",
              "      <td>0.24522</td>\n",
              "      <td>0.293216</td>\n",
              "      <td>0.436789</td>\n",
              "      <td>1.0</td>\n",
              "      <td>1.0</td>\n",
              "      <td>1.0</td>\n",
              "      <td>0.336147</td>\n",
              "      <td>0.340409</td>\n",
              "      <td>0.64978</td>\n",
              "      <td>0.015788</td>\n",
              "      <td>0.999803</td>\n",
              "      <td>0.325524</td>\n",
              "      <td>1.0</td>\n",
              "      <td>1.0</td>\n",
              "      <td>0.981462</td>\n",
              "      <td>0.623326</td>\n",
              "      <td>0.873233</td>\n",
              "      <td>1.0</td>\n",
              "      <td>0.741334</td>\n",
              "      <td>0.259799</td>\n",
              "      <td>0.030833</td>\n",
              "      <td>0.485832</td>\n",
              "      <td>0.999815</td>\n",
              "      <td>0.030003</td>\n",
              "      <td>0.992159</td>\n",
              "      <td>0.636762</td>\n",
              "      <td>0.392001</td>\n",
              "      <td>0.87048</td>\n",
              "      <td>0.338628</td>\n",
              "      <td>0.886842</td>\n",
              "      <td>0.671001</td>\n",
              "      <td>0.822803</td>\n",
              "      <td>0.027116</td>\n",
              "    </tr>\n",
              "  </tbody>\n",
              "</table>\n",
              "<p>1 rows × 10000 columns</p>\n",
              "</div>"
            ],
            "text/plain": [
              "                  9    2         1  ...         8         1         5\n",
              "Test Input  0.15348  1.0  0.887443  ...  0.671001  0.822803  0.027116\n",
              "\n",
              "[1 rows x 10000 columns]"
            ]
          },
          "metadata": {
            "tags": []
          },
          "execution_count": 125
        }
      ]
    },
    {
      "cell_type": "code",
      "metadata": {
        "colab": {
          "base_uri": "https://localhost:8080/"
        },
        "id": "49qn4MTRDabC",
        "outputId": "868003e4-4ec2-44b6-fa81-993446cbed80"
      },
      "source": [
        "\n",
        "y_test[0:20]"
      ],
      "execution_count": null,
      "outputs": [
        {
          "output_type": "execute_result",
          "data": {
            "text/plain": [
              "array([9, 2, 1, 1, 6, 1, 4, 6, 5, 7, 4, 5, 7, 3, 4, 1, 2, 4, 8, 0],\n",
              "      dtype=uint8)"
            ]
          },
          "metadata": {
            "tags": []
          },
          "execution_count": 126
        }
      ]
    },
    {
      "cell_type": "code",
      "metadata": {
        "id": "hmfpXfBhDi_9",
        "colab": {
          "base_uri": "https://localhost:8080/"
        },
        "outputId": "575c1964-1ebc-4cbe-b358-ee5243deda0f"
      },
      "source": [
        "y_test.shape"
      ],
      "execution_count": null,
      "outputs": [
        {
          "output_type": "execute_result",
          "data": {
            "text/plain": [
              "(10000,)"
            ]
          },
          "metadata": {
            "tags": []
          },
          "execution_count": 127
        }
      ]
    },
    {
      "cell_type": "code",
      "metadata": {
        "id": "PJbt9o6KbIHq"
      },
      "source": [
        ""
      ],
      "execution_count": null,
      "outputs": []
    }
  ]
}